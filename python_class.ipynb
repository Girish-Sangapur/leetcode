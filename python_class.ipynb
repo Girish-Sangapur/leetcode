{
  "nbformat": 4,
  "nbformat_minor": 0,
  "metadata": {
    "colab": {
      "provenance": [],
      "authorship_tag": "ABX9TyNzUClaT5RAbaiEJkrwhjHi",
      "include_colab_link": true
    },
    "kernelspec": {
      "name": "python3",
      "display_name": "Python 3"
    },
    "language_info": {
      "name": "python"
    }
  },
  "cells": [
    {
      "cell_type": "markdown",
      "metadata": {
        "id": "view-in-github",
        "colab_type": "text"
      },
      "source": [
        "<a href=\"https://colab.research.google.com/github/Girish-Sangapur/leetcode/blob/main/python_class.ipynb\" target=\"_parent\"><img src=\"https://colab.research.google.com/assets/colab-badge.svg\" alt=\"Open In Colab\"/></a>"
      ]
    },
    {
      "cell_type": "code",
      "source": [],
      "metadata": {
        "id": "4UQi_JFPfdR9"
      },
      "execution_count": 18,
      "outputs": []
    },
    {
      "cell_type": "code",
      "source": [
        "class student:\n",
        "  def __init__(self,name,maths,science,social):\n",
        "    self.name=name\n",
        "    self.maths=maths\n",
        "    self.science=science\n",
        "    self.social=social\n",
        "  def display(self):\n",
        "    print(self.name,self.maths,self.science,self.social)\n",
        "\n",
        "  def total(self):\n",
        "    print(self.maths+self.science+self.social)\n",
        "\n",
        "  def average(self):\n",
        "    print((self.maths+self.science+self.social)/3)\n",
        "\n",
        "\n",
        "student1=student(\"john\",40,50,60)\n",
        "student1.display()\n",
        "student1.total()\n",
        "student1.average()\n",
        "\n",
        "student2=student(\"mark\",50,60,70)\n",
        "student2.display()\n",
        "student2.total()\n",
        "student2.average()\n"
      ],
      "metadata": {
        "colab": {
          "base_uri": "https://localhost:8080/"
        },
        "id": "rVhUQ99rjF6W",
        "outputId": "f40ca646-299b-4b79-cfcf-e2dcbbded087"
      },
      "execution_count": 37,
      "outputs": [
        {
          "output_type": "stream",
          "name": "stdout",
          "text": [
            "john 40 50 60\n",
            "150\n",
            "50.0\n",
            "mark 50 60 70\n",
            "180\n",
            "60.0\n"
          ]
        }
      ]
    }
  ]
}